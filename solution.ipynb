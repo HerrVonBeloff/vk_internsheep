{
 "cells": [
  {
   "cell_type": "code",
   "execution_count": 1,
   "id": "346e0f96",
   "metadata": {},
   "outputs": [],
   "source": [
    "import pandas as pd\n",
    "import pickle\n",
    "import warnings"
   ]
  },
  {
   "cell_type": "code",
   "execution_count": 2,
   "id": "69f20efe",
   "metadata": {},
   "outputs": [],
   "source": [
    "warnings.filterwarnings('ignore')"
   ]
  },
  {
   "cell_type": "code",
   "execution_count": 3,
   "id": "222d51b8",
   "metadata": {},
   "outputs": [],
   "source": [
    "new_test = pd.read_csv('new_test.csv', index_col = 'id')"
   ]
  },
  {
   "cell_type": "markdown",
   "id": "f6149265",
   "metadata": {},
   "source": [
    "## Импорт и обучение модели"
   ]
  },
  {
   "cell_type": "code",
   "execution_count": 4,
   "id": "3ec92045",
   "metadata": {},
   "outputs": [],
   "source": [
    "model = pickle.load(open('model.pkl', 'rb'))"
   ]
  },
  {
   "cell_type": "markdown",
   "id": "8da7517b",
   "metadata": {},
   "source": [
    "## Генерация sample_submission"
   ]
  },
  {
   "cell_type": "code",
   "execution_count": 5,
   "id": "1371908a",
   "metadata": {},
   "outputs": [],
   "source": [
    "predict = model.predict(new_test)\n",
    "submission = pd.Series(predict, index = new_test.index, name = 'score')\n",
    "submission.to_csv('submission.csv')"
   ]
  },
  {
   "cell_type": "code",
   "execution_count": null,
   "id": "c3fc2d2d",
   "metadata": {},
   "outputs": [],
   "source": []
  }
 ],
 "metadata": {
  "kernelspec": {
   "display_name": "Python 3 (ipykernel)",
   "language": "python",
   "name": "python3"
  },
  "language_info": {
   "codemirror_mode": {
    "name": "ipython",
    "version": 3
   },
   "file_extension": ".py",
   "mimetype": "text/x-python",
   "name": "python",
   "nbconvert_exporter": "python",
   "pygments_lexer": "ipython3",
   "version": "3.9.13"
  },
  "toc": {
   "base_numbering": 1,
   "nav_menu": {},
   "number_sections": true,
   "sideBar": true,
   "skip_h1_title": false,
   "title_cell": "Table of Contents",
   "title_sidebar": "Contents",
   "toc_cell": false,
   "toc_position": {},
   "toc_section_display": true,
   "toc_window_display": false
  }
 },
 "nbformat": 4,
 "nbformat_minor": 5
}
